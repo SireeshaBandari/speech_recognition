{
 "cells": [
  {
   "cell_type": "code",
   "execution_count": 1,
   "metadata": {},
   "outputs": [],
   "source": [
    "import random\n",
    "import time\n",
    "import speech_recognition as sr\n"
   ]
  },
  {
   "cell_type": "code",
   "execution_count": 2,
   "metadata": {},
   "outputs": [],
   "source": [
    "def recognize_speech_from_mic(recognizer , microphone): #microphone -- input audio file\n",
    "                                                        #recognizer --sr.Recognizer\n",
    "    \n",
    "    if not isinstance(recognizer , sr.Recognizer):\n",
    "        raise TypeError('recognizer must  be a Recognizer instance')\n",
    "    if not isinstance(microphone , sr.Microphone):\n",
    "        raise TypeError('microphone must be a microphone instance')\n",
    "    \n",
    "    \n",
    "    with microphone as source:\n",
    "        recognizer.adjust_for_ambient_noise(source)\n",
    "        audio=recognizer.listen(source)\n",
    "    \n",
    "    #setting up a response object\n",
    "    response = {\n",
    "        'success':True,\n",
    "        'error':None,\n",
    "        'transcription':None\n",
    "    }\n",
    "    \n",
    "    try:\n",
    "        response['transcription'] = recognizer.recognize_google(audio)\n",
    "    except sr.RequestErorr :\n",
    "        #API Unresponsive\n",
    "        response['error'] = \"API unavailable\"\n",
    "        response['success'] = False\n",
    "    except sr.UnknownValueError :\n",
    "        #speech not identified\n",
    "        response['error'] = 'Unable to recognize speech'\n",
    "    return response    "
   ]
  },
  {
   "cell_type": "code",
   "execution_count": null,
   "metadata": {},
   "outputs": [],
   "source": []
  }
 ],
 "metadata": {
  "kernelspec": {
   "display_name": "Python 3",
   "language": "python",
   "name": "python3"
  },
  "language_info": {
   "codemirror_mode": {
    "name": "ipython",
    "version": 3
   },
   "file_extension": ".py",
   "mimetype": "text/x-python",
   "name": "python",
   "nbconvert_exporter": "python",
   "pygments_lexer": "ipython3",
   "version": "3.7.7"
  }
 },
 "nbformat": 4,
 "nbformat_minor": 4
}
